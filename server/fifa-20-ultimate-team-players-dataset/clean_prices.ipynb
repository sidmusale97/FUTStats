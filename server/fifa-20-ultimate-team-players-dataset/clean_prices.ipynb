{
 "cells": [
  {
   "cell_type": "code",
   "execution_count": 1,
   "metadata": {},
   "outputs": [],
   "source": [
    "import pandas as pd"
   ]
  },
  {
   "cell_type": "code",
   "execution_count": 2,
   "metadata": {},
   "outputs": [
    {
     "name": "stdout",
     "output_type": "stream",
     "text": [
      "         resource_id        date   ps4  xbox    pc\n",
      "0                 41  2019-09-19  2700  2700  2700\n",
      "1                 41  2019-09-20  2700  2700  2700\n",
      "2                 41  2019-09-21  2700  2700  2700\n",
      "3                 41  2019-09-22  2700  2706  2700\n",
      "4                 41  2019-09-23  2700  2700  2700\n",
      "...              ...         ...   ...   ...   ...\n",
      "2499992    218334474  2020-02-02     0     0     0\n",
      "2499993    218334474  2020-02-03     0     0     0\n",
      "2499994    218334474  2020-02-04     0     0     0\n",
      "2499995    218334474  2020-02-05     0     0     0\n",
      "2499996    218334474  2020-02-06     0     0     0\n",
      "\n",
      "[2499997 rows x 5 columns]\n"
     ]
    }
   ],
   "source": [
    "prices = pd.read_csv('fut_bin20_prices.csv')\n",
    "print(prices)"
   ]
  },
  {
   "cell_type": "code",
   "execution_count": 4,
   "metadata": {},
   "outputs": [
    {
     "name": "stdout",
     "output_type": "stream",
     "text": [
      "resource_id    0\n",
      "date           0\n",
      "ps4            0\n",
      "xbox           0\n",
      "pc             0\n",
      "dtype: int64\n"
     ]
    }
   ],
   "source": [
    "print(prices.isnull().sum())"
   ]
  },
  {
   "cell_type": "code",
   "execution_count": null,
   "metadata": {},
   "outputs": [],
   "source": []
  }
 ],
 "metadata": {
  "kernelspec": {
   "display_name": "Python 3.7.4 64-bit",
   "language": "python",
   "name": "python37464bit5f1e063edef4426a9023218e27969b44"
  },
  "language_info": {
   "codemirror_mode": {
    "name": "ipython",
    "version": 3
   },
   "file_extension": ".py",
   "mimetype": "text/x-python",
   "name": "python",
   "nbconvert_exporter": "python",
   "pygments_lexer": "ipython3",
   "version": "3.7.4"
  }
 },
 "nbformat": 4,
 "nbformat_minor": 4
}
