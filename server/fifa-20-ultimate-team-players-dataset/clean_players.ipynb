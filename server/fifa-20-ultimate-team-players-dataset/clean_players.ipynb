{
 "cells": [
  {
   "cell_type": "code",
   "execution_count": 1,
   "metadata": {},
   "outputs": [
    {
     "name": "stderr",
     "output_type": "stream",
     "text": [
      "c:\\users\\sidmu\\appdata\\local\\programs\\python\\python37\\lib\\site-packages\\IPython\\core\\interactiveshell.py:3063: DtypeWarning: Columns (5) have mixed types. Specify dtype option on import or set low_memory=False.\n",
      "  interactivity=interactivity, compiler=compiler, result=result)\n"
     ]
    },
    {
     "name": "stdout",
     "output_type": "stream",
     "text": [
      "futbin_id               False\n",
      "player_name             False\n",
      "player_extended_name    False\n",
      "quality                 False\n",
      "revision                 True\n",
      "                        ...  \n",
      "att_workrate            False\n",
      "def_workrate            False\n",
      "weak_foot               False\n",
      "skill_moves             False\n",
      "resource_id             False\n",
      "Length: 64, dtype: bool\n"
     ]
    }
   ],
   "source": [
    "import pandas as pd\n",
    "from sklearn.impute import SimpleImputer\n",
    "players = pd.read_csv('fut_bin20_players.csv')\n",
    "unimportant_cols = list(players.columns[63:])\n",
    "unimportant_cols.remove('resource_id')\n",
    "players.drop(unimportant_cols, inplace=True, axis=1)\n",
    "print(players.isnull().sum() > 0)\n",
    "\n",
    "imputer = SimpleImputer(strategy='constant',fill_value=0)\n",
    "\n",
    "\n",
    "players = pd.DataFrame(imputer.fit_transform(players), columns=players.columns)\n",
    "players.to_csv('fixed_fut_bin20_players.csv', index=False)"
   ]
  },
  {
   "cell_type": "code",
   "execution_count": 2,
   "metadata": {},
   "outputs": [
    {
     "name": "stdout",
     "output_type": "stream",
     "text": [
      "Index(['futbin_id', 'player_name', 'player_extended_name', 'quality',\n",
      "       'revision', 'origin', 'overall', 'club', 'league', 'nationality',\n",
      "       'position', 'age', 'date_of_birth', 'height', 'weight', 'intl_rep',\n",
      "       'added_date', 'pace', 'pace_acceleration', 'pace_sprint_speed',\n",
      "       'dribbling', 'drib_agility', 'drib_balance', 'drib_reactions',\n",
      "       'drib_ball_control', 'drib_dribbling', 'drib_composure', 'shooting',\n",
      "       'shoot_positioning', 'shoot_finishing', 'shoot_shot_power',\n",
      "       'shoot_long_shots', 'shoot_volleys', 'shoot_penalties', 'passing',\n",
      "       'pass_vision', 'pass_crossing', 'pass_free_kick', 'pass_short',\n",
      "       'pass_long', 'pass_curve', 'defending', 'def_interceptions',\n",
      "       'def_heading', 'def_marking', 'def_stand_tackle', 'def_slid_tackle',\n",
      "       'physicality', 'phys_jumping', 'phys_stamina', 'phys_strength',\n",
      "       'phys_aggression', 'gk_diving', 'gk_reflexes', 'gk_handling',\n",
      "       'gk_speed', 'gk_kicking', 'gk_positoning', 'pref_foot', 'att_workrate',\n",
      "       'def_workrate', 'weak_foot', 'skill_moves', 'resource_id'],\n",
      "      dtype='object')\n",
      "futbin_id               0\n",
      "player_name             0\n",
      "player_extended_name    0\n",
      "quality                 0\n",
      "revision                0\n",
      "                       ..\n",
      "att_workrate            0\n",
      "def_workrate            0\n",
      "weak_foot               0\n",
      "skill_moves             0\n",
      "resource_id             0\n",
      "Length: 64, dtype: int64\n"
     ]
    },
    {
     "name": "stderr",
     "output_type": "stream",
     "text": [
      "c:\\users\\sidmu\\appdata\\local\\programs\\python\\python37\\lib\\site-packages\\IPython\\core\\interactiveshell.py:3063: DtypeWarning: Columns (5) have mixed types. Specify dtype option on import or set low_memory=False.\n",
      "  interactivity=interactivity, compiler=compiler, result=result)\n"
     ]
    }
   ],
   "source": [
    "players = pd.read_csv('fixed_fut_bin20_players.csv')\n",
    "unimportant_cols = list(players.columns[63:])\n",
    "unimportant_cols.remove('resource_id')\n",
    "\n",
    "players.drop(unimportant_cols, inplace=True, axis=1)\n",
    "\n",
    "print(players.columns)\n",
    "print(players.isnull().sum())"
   ]
  },
  {
   "cell_type": "code",
   "execution_count": 5,
   "metadata": {},
   "outputs": [
    {
     "name": "stdout",
     "output_type": "stream",
     "text": [
      "['CAM' 'ST' 'CF' 'CB' 'GK' 'LW' 'CM' 'RW' 'LM' 'RB' 'CDM' 'LB' 'RM' 'RWB'\n",
      " 'LWB' 'RF' 'LF']\n"
     ]
    }
   ],
   "source": [
    "print(players['position'].unique())"
   ]
  },
  {
   "cell_type": "code",
   "execution_count": null,
   "metadata": {},
   "outputs": [],
   "source": []
  }
 ],
 "metadata": {
  "kernelspec": {
   "display_name": "Python 3",
   "language": "python",
   "name": "python3"
  },
  "language_info": {
   "codemirror_mode": {
    "name": "ipython",
    "version": 3
   },
   "file_extension": ".py",
   "mimetype": "text/x-python",
   "name": "python",
   "nbconvert_exporter": "python",
   "pygments_lexer": "ipython3",
   "version": "3.7.4"
  }
 },
 "nbformat": 4,
 "nbformat_minor": 4
}
